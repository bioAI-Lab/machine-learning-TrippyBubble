{
 "cells": [
  {
   "cell_type": "code",
   "id": "initial_id",
   "metadata": {
    "collapsed": true,
    "ExecuteTime": {
     "end_time": "2025-04-23T01:12:08.877434Z",
     "start_time": "2025-04-23T01:12:06.957968Z"
    }
   },
   "source": [
    "import pandas as pd\n",
    "import matplotlib.pyplot as plt\n",
    "from sklearn.model_selection import train_test_split\n",
    "from sklearn.preprocessing import StandardScaler\n",
    "from sklearn.neural_network import MLPRegressor\n",
    "from sklearn.metrics import r2_score, mean_absolute_error, mean_squared_error\n",
    "from os import path\n",
    "from sklearn.neural_network import MLPClassifier\n",
    "from sklearn.metrics import accuracy_score, precision_score, recall_score\n",
    "from sklearn.model_selection import train_test_split\n",
    "from sklearn.preprocessing import StandardScaler\n",
    "\n",
    "data = pd.read_csv(path.join('data_practice.csv'))\n",
    "smiles = data['smiles']\n",
    "data = data.drop(data.select_dtypes(include=['object']).columns, axis=1)\n",
    "\n",
    "\n",
    "X = data.drop(columns='gap').values\n",
    "y = data['gap'].values\n",
    "scaler = StandardScaler()\n",
    "X_scaled = scaler.fit_transform(X)\n",
    "X_train, X_val, y_train, y_val = train_test_split(X_scaled, y, test_size=0.2, random_state=42)\n",
    "\n",
    "# Модель\n",
    "mlp = MLPRegressor(hidden_layer_sizes=(64, 64, 64), activation='relu', solver='adam',\n",
    "                   max_iter=500, early_stopping=True, validation_fraction=0.2, random_state=42)\n",
    "mlp.fit(X_train, y_train)\n",
    "\n",
    "# Метрики\n",
    "y_pred = mlp.predict(X_val)\n",
    "print(\"R²:\", r2_score(y_val, y_pred))\n",
    "print(\"MAE:\", mean_absolute_error(y_val, y_pred))\n",
    "print(\"MSE:\", mean_squared_error(y_val, y_pred))\n",
    "\n",
    "# График потерь (если доступен)\n",
    "if hasattr(mlp, 'график потерь'):\n",
    "    plt.plot(mlp.loss_curve_)\n",
    "    plt.title(\"тренировочная кривая потерь\")\n",
    "    plt.xlabel(\"Итерации\")\n",
    "    plt.ylabel(\"Потери\")\n",
    "    plt.grid(True)\n",
    "    plt.show()"
   ],
   "outputs": [
    {
     "name": "stdout",
     "output_type": "stream",
     "text": [
      "R²: 0.029900289115319945\n",
      "MAE: 0.03463092271082613\n",
      "MSE: 0.0022253719309439004\n"
     ]
    }
   ],
   "execution_count": 8
  },
  {
   "metadata": {
    "ExecuteTime": {
     "end_time": "2025-04-23T01:12:40.510541Z",
     "start_time": "2025-04-23T01:12:40.507151Z"
    }
   },
   "cell_type": "code",
   "source": "",
   "id": "8ab79b47e70036d4",
   "outputs": [],
   "execution_count": null
  },
  {
   "metadata": {},
   "cell_type": "code",
   "outputs": [],
   "execution_count": null,
   "source": "",
   "id": "38f51fe7c1a71f58"
  },
  {
   "metadata": {
    "ExecuteTime": {
     "end_time": "2025-04-23T01:13:37.243854Z",
     "start_time": "2025-04-23T01:13:37.225309Z"
    }
   },
   "cell_type": "code",
   "source": [
    "median_gap = data['gap'].median()\n",
    "data['gap_class'] = (data['gap'] > median_gap).astype(int)\n",
    "X = data.drop(columns=['gap', 'gap_class']).values\n",
    "y = data['gap_class'].values\n",
    "scaler = StandardScaler()\n",
    "X_scaled = scaler.fit_transform(X)"
   ],
   "id": "265ad180e377e4cf",
   "outputs": [],
   "execution_count": 11
  },
  {
   "metadata": {
    "ExecuteTime": {
     "end_time": "2025-04-23T01:14:31.832746Z",
     "start_time": "2025-04-23T01:14:31.384156Z"
    }
   },
   "cell_type": "code",
   "source": [
    "# Деление на обучающую и валидационную выборки\n",
    "X_train, X_val, y_train, y_val = train_test_split(X_scaled, y, test_size=0.2, random_state=42)\n",
    "\n",
    "# Обучение модели\n",
    "mlp_clf = MLPClassifier(hidden_layer_sizes=(64, 64),\n",
    "                        activation='relu',\n",
    "                        solver='adam',\n",
    "                        max_iter=500,\n",
    "                        early_stopping=True,\n",
    "                        validation_fraction=0.2,\n",
    "                        random_state=42)\n",
    "\n",
    "mlp_clf.fit(X_train, y_train)\n",
    "\n",
    "# Метрики классификации\n",
    "y_pred = mlp_clf.predict(X_val)\n",
    "accuracy = accuracy_score(y_val, y_pred)\n",
    "precision = precision_score(y_val, y_pred)\n",
    "recall = recall_score(y_val, y_pred)\n",
    "\n",
    "accuracy, precision, recall\n",
    "\n",
    "# График потерь на обучающей выборке\n",
    "plt.plot(mlp_clf.loss_curve_, label='Training Loss')\n",
    "plt.title(\"Training Loss Curve (MLP Classifier)\")\n",
    "plt.xlabel(\"Iterations\")\n",
    "plt.ylabel(\"Loss\")\n",
    "plt.grid(True)\n",
    "plt.legend()\n",
    "plt.show()"
   ],
   "id": "b8c70fb9367c0097",
   "outputs": [
    {
     "data": {
      "text/plain": [
       "<Figure size 640x480 with 1 Axes>"
      ],
      "image/png": "[encoded data removed]"
     },
     "metadata": {},
     "output_type": "display_data"
    }
   ],
   "execution_count": 13
  },
  {
   "metadata": {},
   "cell_type": "code",
   "outputs": [],
   "execution_count": null,
   "source": "",
   "id": "db6194d4d4c9a9b2"
  }
 ],
 "metadata": {
  "kernelspec": {
   "display_name": "Python 3",
   "language": "python",
   "name": "python3"
  },
  "language_info": {
   "codemirror_mode": {
    "name": "ipython",
    "version": 2
   },
   "file_extension": ".py",
   "mimetype": "text/x-python",
   "name": "python",
   "nbconvert_exporter": "python",
   "pygments_lexer": "ipython2",
   "version": "2.7.6"
  }
 },
 "nbformat": 4,
 "nbformat_minor": 5
}
